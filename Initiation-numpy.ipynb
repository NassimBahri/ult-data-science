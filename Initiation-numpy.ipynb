{
 "cells": [
  {
   "cell_type": "markdown",
   "id": "6835d595",
   "metadata": {},
   "source": [
    "Dans ce premier Lab, nous essayerons de manipuler les fonctions de base de la bibliothèque numérique numpy."
   ]
  },
  {
   "cell_type": "markdown",
   "id": "44e1bfe0",
   "metadata": {},
   "source": [
    "# Les bases de la bibliothèque NumPy"
   ]
  },
  {
   "cell_type": "code",
   "execution_count": null,
   "id": "641c1df2",
   "metadata": {},
   "outputs": [],
   "source": [
    "## Code à compléter\n",
    "# Installer la bibliothèque numpy (si elle n'est pas encore installée)\n",
    "# Importer la bibliothèque numpy"
   ]
  },
  {
   "cell_type": "markdown",
   "id": "2f601977",
   "metadata": {},
   "source": [
    "### Exercice 1\n",
    "Ecrire un programme NumPy permettant de convertir une liste de valeurs numériques à un array NumPy unidimensionnel."
   ]
  },
  {
   "cell_type": "code",
   "execution_count": null,
   "id": "66b4b9d3",
   "metadata": {},
   "outputs": [],
   "source": [
    "## Code à compléter"
   ]
  },
  {
   "cell_type": "markdown",
   "id": "968253e9",
   "metadata": {},
   "source": [
    "### Exercice 2\n",
    "Ecrire un programme NumPy permettant de créer une matrice 3x3 avec des valeurs allant de 2 à 10. Output:\n",
    "\n",
    "`[ [ 2 3 4]\n",
    "[ 5 6 7]\n",
    "[ 8 9 10] ]`"
   ]
  },
  {
   "cell_type": "code",
   "execution_count": null,
   "id": "b29c2522",
   "metadata": {},
   "outputs": [],
   "source": [
    "## Code à compléter"
   ]
  },
  {
   "cell_type": "markdown",
   "id": "dc17ccb5",
   "metadata": {},
   "source": [
    "### Exercice 3\n",
    "Ecrire un programme qui permet de créer un tableau de dimension 5 x 5 avec des valeurs aléatoires et de trouver les\n",
    "valeur mininales et maximales."
   ]
  },
  {
   "cell_type": "code",
   "execution_count": 5,
   "id": "a39d2e9c",
   "metadata": {},
   "outputs": [],
   "source": [
    "## Code à compléter"
   ]
  },
  {
   "cell_type": "markdown",
   "id": "634a3fb5",
   "metadata": {},
   "source": [
    "### Exercice 4\n",
    "Créer une fonction python qui permet de renvoyer une matrice respectant les exigences suivantes."
   ]
  },
  {
   "cell_type": "code",
   "execution_count": null,
   "id": "b8009c6e",
   "metadata": {},
   "outputs": [],
   "source": [
    "## Code à compléter\n",
    "def init(m, n):\n",
    "    # m : Nombre de lignes\n",
    "    # n : Nombre de colonnes\n",
    "    # Retourne une matrice aléatoire (m, n+1) avec une colonne bias (remplie de \"1\") tout à droite"
   ]
  },
  {
   "cell_type": "markdown",
   "id": "4c42f7f2",
   "metadata": {},
   "source": [
    "# Manipulation d'une image avec NumPy\n",
    "Dans cet exemple, nous essayerons de manipuler des images sous la forme de tableau NumPy à n-dimensions. C'est la base de tous les algorithmes de Deep Learning (Computer Vision)."
   ]
  },
  {
   "cell_type": "code",
   "execution_count": null,
   "id": "1b0a90ba",
   "metadata": {},
   "outputs": [],
   "source": [
    "# Importer l'image à manipuler\n",
    "from scipy import misc\n",
    "import matplotlib.pyplot as plt\n",
    "face = misc.face()\n",
    "plt.imshow(face, cmap=plt.cm.gray)\n",
    "plt.show()"
   ]
  },
  {
   "cell_type": "markdown",
   "id": "2ca48d37",
   "metadata": {},
   "source": [
    "Pour réduire la complexité de notre tableau NumPy, on va changer cette image sans couleur (c'est à dire en version noir et blanc). Il faut tout simplement utiliser la fonction : `misc.face(gray=True)`"
   ]
  },
  {
   "cell_type": "code",
   "execution_count": 7,
   "id": "d9086486",
   "metadata": {},
   "outputs": [],
   "source": [
    "## Code à compléter"
   ]
  },
  {
   "cell_type": "markdown",
   "id": "9b635e8b",
   "metadata": {},
   "source": [
    "### Question 1\n",
    "Zoom sur une partie de l'image : zoomer de 1/4 vers le milieu pour cette photo)"
   ]
  },
  {
   "cell_type": "code",
   "execution_count": 8,
   "id": "733b1e0b",
   "metadata": {},
   "outputs": [],
   "source": [
    "## Code à compléter"
   ]
  },
  {
   "cell_type": "markdown",
   "id": "bb2ef825",
   "metadata": {},
   "source": [
    "### Question 2\n",
    "Réduire la taille de la photo (compression) à la moitié"
   ]
  },
  {
   "cell_type": "code",
   "execution_count": null,
   "id": "5461aacb",
   "metadata": {},
   "outputs": [],
   "source": [
    "## Code à compléter"
   ]
  },
  {
   "cell_type": "markdown",
   "id": "6b8af68c",
   "metadata": {},
   "source": [
    "### Question 3\n",
    "Convertir l'image en noir et blanc (On va supprimer le niveau de gris)."
   ]
  },
  {
   "cell_type": "code",
   "execution_count": null,
   "id": "2850ce3f",
   "metadata": {},
   "outputs": [],
   "source": [
    "## Code à compléter"
   ]
  }
 ],
 "metadata": {
  "kernelspec": {
   "display_name": "Python 3 (ipykernel)",
   "language": "python",
   "name": "python3"
  },
  "language_info": {
   "codemirror_mode": {
    "name": "ipython",
    "version": 3
   },
   "file_extension": ".py",
   "mimetype": "text/x-python",
   "name": "python",
   "nbconvert_exporter": "python",
   "pygments_lexer": "ipython3",
   "version": "3.10.12"
  }
 },
 "nbformat": 4,
 "nbformat_minor": 5
}
