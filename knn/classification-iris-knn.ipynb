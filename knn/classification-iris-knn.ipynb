{
 "cells": [
  {
   "cell_type": "markdown",
   "id": "323b0213",
   "metadata": {},
   "source": [
    "# K-nearest neighbors (kNN) "
   ]
  },
  {
   "cell_type": "markdown",
   "id": "cc1ae124",
   "metadata": {},
   "source": [
    "L'objectif de ce problème est de développer un modèle de classification capable de classer des iris en fonction de leurs caractéristiques botaniques. Le dataset Iris est composé de mesures de quatre variables (longueur et largeur des sépales, longueur et largeur des pétales) pour trois espèces d'iris : setosa, versicolor et virginica."
   ]
  },
  {
   "cell_type": "markdown",
   "id": "c2158059",
   "metadata": {},
   "source": [
    "<table>\n",
    "    <tr>\n",
    "        <th>\n",
    "            <img src=\"https://www.nassimbahri.ovh/docs/cours/content/data-science/img/iris_setosa.jpeg\">\n",
    "        </th>\n",
    "        <th>\n",
    "            <img src=\"https://www.nassimbahri.ovh/docs/cours/content/data-science/img/iris_versicolor.jpeg\">\n",
    "        </th>\n",
    "        <th>\n",
    "            <img src=\"https://www.nassimbahri.ovh/docs/cours/content/data-science/img/iris_virginica.jpeg\">\n",
    "        </th>\n",
    "    </tr>\n",
    "    <tr>\n",
    "        <th style=\"text-align:center\">iris setosa</th>\n",
    "        <th style=\"text-align:center\">iris virginica</th>\n",
    "        <th style=\"text-align:center\">iris versicolor</th>\n",
    "    </tr>\n",
    "</table>\n",
    "<img src=\"https://www.nassimbahri.ovh/docs/cours/content/data-science/img/features.jpeg\" style=\"width:500px\">"
   ]
  },
  {
   "cell_type": "markdown",
   "id": "ddccc98d",
   "metadata": {},
   "source": [
    "### Étape 1 : Chargement de l'ensemble de données"
   ]
  },
  {
   "cell_type": "code",
   "execution_count": null,
   "id": "93f7563f",
   "metadata": {},
   "outputs": [],
   "source": [
    "import pandas as pd\n",
    "iris = pd.read_csv('iris.csv')\n",
    "iris"
   ]
  },
  {
   "cell_type": "code",
   "execution_count": null,
   "id": "ac3b49a6",
   "metadata": {},
   "outputs": [],
   "source": [
    "iris.shape"
   ]
  },
  {
   "cell_type": "code",
   "execution_count": null,
   "id": "f73336de",
   "metadata": {},
   "outputs": [],
   "source": [
    "iris.describe()"
   ]
  },
  {
   "cell_type": "code",
   "execution_count": null,
   "id": "409f20e5",
   "metadata": {},
   "outputs": [],
   "source": [
    "iris.head()"
   ]
  },
  {
   "cell_type": "code",
   "execution_count": null,
   "id": "89294859",
   "metadata": {},
   "outputs": [],
   "source": [
    "iris['species'].value_counts()"
   ]
  },
  {
   "cell_type": "code",
   "execution_count": null,
   "id": "a461579f",
   "metadata": {},
   "outputs": [],
   "source": [
    "import matplotlib.pyplot as plt\n",
    "iris.hist()\n",
    "plt.show()"
   ]
  },
  {
   "cell_type": "code",
   "execution_count": null,
   "id": "57fa958f",
   "metadata": {},
   "outputs": [],
   "source": [
    "import numpy as np\n",
    "species_name = {'Iris-versicolor':0,'Iris-virginica':1,'Iris-setosa':2}\n",
    "color = [species_name[item] for item in iris['species']]\n",
    "scatter = plt.scatter(iris['sepal_length'],iris['sepal_width'],c=color)\n",
    "plt.xlabel('Sepal Length (en cm)')\n",
    "plt.ylabel('Sepal Width (en cm)')\n",
    "plt.legend(handles = scatter.legend_elements()[0],labels=species_name)\n",
    "plt.show()"
   ]
  },
  {
   "cell_type": "code",
   "execution_count": null,
   "id": "d6fd21ff",
   "metadata": {},
   "outputs": [],
   "source": [
    "species_name = {'Iris-versicolor':0,'Iris-virginica':1,'Iris-setosa':2}\n",
    "color = [species_name[item] for item in iris['species']]\n",
    "scatter = plt.scatter(iris['petal_length'],iris['petal_width'],c=color)\n",
    "plt.xlabel('Petal Length (en cm)')\n",
    "plt.ylabel('Petal Width (en cm)')\n",
    "plt.legend(handles = scatter.legend_elements()[0],labels=species_name)\n",
    "plt.show()"
   ]
  },
  {
   "cell_type": "code",
   "execution_count": null,
   "id": "ba36d4b0",
   "metadata": {},
   "outputs": [],
   "source": []
  },
  {
   "cell_type": "markdown",
   "id": "2c337dee",
   "metadata": {},
   "source": [
    "### Étape 2 : Analyse et Visualisation des données"
   ]
  },
  {
   "cell_type": "markdown",
   "id": "37b7b8ce",
   "metadata": {},
   "source": [
    "### Étape 3 : Préparation des données de training/test"
   ]
  },
  {
   "cell_type": "code",
   "execution_count": null,
   "id": "b3ca1784",
   "metadata": {},
   "outputs": [],
   "source": [
    "y = iris[\"species\"]\n",
    "X = iris.drop([\"species\"], axis=1)"
   ]
  },
  {
   "cell_type": "code",
   "execution_count": null,
   "id": "3e7250b5",
   "metadata": {},
   "outputs": [],
   "source": [
    "print(\"Shape X: \",X.shape)\n",
    "print(\"Shape y: \",y.shape)"
   ]
  },
  {
   "cell_type": "code",
   "execution_count": null,
   "id": "d8294c73",
   "metadata": {},
   "outputs": [],
   "source": [
    "X.head()"
   ]
  },
  {
   "cell_type": "code",
   "execution_count": null,
   "id": "435026f8",
   "metadata": {},
   "outputs": [],
   "source": [
    "y.head()"
   ]
  },
  {
   "cell_type": "code",
   "execution_count": null,
   "id": "9c1950ad",
   "metadata": {},
   "outputs": [],
   "source": [
    "from sklearn.model_selection import train_test_split\n",
    "X_train, X_test, y_train, y_test = train_test_split(X, y, test_size=0.2, random_state=0)"
   ]
  },
  {
   "cell_type": "code",
   "execution_count": null,
   "id": "9bcd15c8",
   "metadata": {},
   "outputs": [],
   "source": [
    "print(X_train.shape)\n",
    "print(X_test.shape)"
   ]
  },
  {
   "cell_type": "markdown",
   "id": "b524d2cc",
   "metadata": {},
   "source": [
    "### Étape 4 : Normalisation des données"
   ]
  },
  {
   "cell_type": "code",
   "execution_count": null,
   "id": "0701f23b",
   "metadata": {},
   "outputs": [],
   "source": [
    "from sklearn.preprocessing import MinMaxScaler\n",
    "s = MinMaxScaler()\n",
    "X_train = s.fit_transform(X_train)\n",
    "X_test = s.fit_transform(X_test)"
   ]
  },
  {
   "cell_type": "code",
   "execution_count": null,
   "id": "40623aa7",
   "metadata": {},
   "outputs": [],
   "source": [
    "X_test"
   ]
  },
  {
   "cell_type": "markdown",
   "id": "38e03f00",
   "metadata": {},
   "source": [
    "### Étape 5 : Appliquer l'algorithme KNN"
   ]
  },
  {
   "cell_type": "code",
   "execution_count": null,
   "id": "eb7dc2b7",
   "metadata": {},
   "outputs": [],
   "source": [
    "from sklearn.neighbors import KNeighborsClassifier\n",
    "knn = KNeighborsClassifier(n_neighbors=5)\n",
    "knn.fit(X_train,y_train)"
   ]
  },
  {
   "cell_type": "code",
   "execution_count": null,
   "id": "a4241ec5",
   "metadata": {},
   "outputs": [],
   "source": [
    "y_pred = knn.predict(X_test)"
   ]
  },
  {
   "cell_type": "code",
   "execution_count": null,
   "id": "25884d51",
   "metadata": {},
   "outputs": [],
   "source": [
    "y_pred"
   ]
  },
  {
   "cell_type": "markdown",
   "id": "70e8953b",
   "metadata": {},
   "source": [
    "### Evaluation"
   ]
  },
  {
   "cell_type": "code",
   "execution_count": null,
   "id": "54ce6632",
   "metadata": {},
   "outputs": [],
   "source": [
    "from sklearn.metrics import accuracy_score, confusion_matrix, classification_report"
   ]
  },
  {
   "cell_type": "code",
   "execution_count": null,
   "id": "1bfbbecc",
   "metadata": {},
   "outputs": [],
   "source": [
    "accuracy = accuracy_score(y_pred, y_test)\n",
    "accuracy"
   ]
  },
  {
   "cell_type": "code",
   "execution_count": null,
   "id": "d6063df1",
   "metadata": {},
   "outputs": [],
   "source": [
    "confusion_matrix(y_pred,y_test)"
   ]
  },
  {
   "cell_type": "code",
   "execution_count": null,
   "id": "03394e76",
   "metadata": {},
   "outputs": [],
   "source": [
    "print(classification_report(y_pred,y_test))"
   ]
  }
 ],
 "metadata": {
  "kernelspec": {
   "display_name": "Python 3 (ipykernel)",
   "language": "python",
   "name": "python3"
  },
  "language_info": {
   "codemirror_mode": {
    "name": "ipython",
    "version": 3
   },
   "file_extension": ".py",
   "mimetype": "text/x-python",
   "name": "python",
   "nbconvert_exporter": "python",
   "pygments_lexer": "ipython3",
   "version": "3.10.12"
  }
 },
 "nbformat": 4,
 "nbformat_minor": 5
}
