{
 "cells": [
  {
   "cell_type": "markdown",
   "id": "37754a2d",
   "metadata": {},
   "source": [
    "# K-means clusturing\n",
    "\n",
    "Ce jeu de données (dataset) contient des données client, telles que le sexe, l'âge, la profession, la taille de la famille, etc. Notre plan est de créer des clusters à partir de ces clients."
   ]
  },
  {
   "cell_type": "code",
   "execution_count": null,
   "id": "49176f16",
   "metadata": {},
   "outputs": [],
   "source": [
    "import pandas as pd\n",
    "data = pd.read_csv(\"Train.csv\")"
   ]
  },
  {
   "cell_type": "code",
   "execution_count": null,
   "id": "d1efaf2b",
   "metadata": {},
   "outputs": [],
   "source": [
    "data.sample(5)"
   ]
  },
  {
   "cell_type": "code",
   "execution_count": null,
   "id": "307f00a8",
   "metadata": {},
   "outputs": [],
   "source": [
    "data = data.drop([\"Segmentation\", \"ID\"], axis=1)"
   ]
  },
  {
   "cell_type": "code",
   "execution_count": null,
   "id": "1591e598",
   "metadata": {},
   "outputs": [],
   "source": [
    "data.info()"
   ]
  },
  {
   "cell_type": "code",
   "execution_count": null,
   "id": "aead30a2",
   "metadata": {},
   "outputs": [],
   "source": [
    "data = data.dropna()"
   ]
  },
  {
   "cell_type": "code",
   "execution_count": null,
   "id": "3db04c43",
   "metadata": {},
   "outputs": [],
   "source": [
    "data.head()"
   ]
  },
  {
   "cell_type": "code",
   "execution_count": null,
   "id": "6bc8e356",
   "metadata": {},
   "outputs": [],
   "source": [
    "data = data.reset_index()"
   ]
  },
  {
   "cell_type": "code",
   "execution_count": null,
   "id": "d3ad5a78",
   "metadata": {},
   "outputs": [],
   "source": [
    "data"
   ]
  },
  {
   "cell_type": "code",
   "execution_count": null,
   "id": "137c3c0e",
   "metadata": {},
   "outputs": [],
   "source": [
    "data.drop([\"index\"], axis=1, inplace=True)"
   ]
  },
  {
   "cell_type": "code",
   "execution_count": null,
   "id": "38f4dce3",
   "metadata": {},
   "outputs": [],
   "source": [
    "data.head()"
   ]
  },
  {
   "cell_type": "code",
   "execution_count": null,
   "id": "9917098f",
   "metadata": {},
   "outputs": [],
   "source": [
    "data_dummies = pd.get_dummies(data) # drop_first=True pour les colonnes de types YES/NO"
   ]
  },
  {
   "cell_type": "code",
   "execution_count": null,
   "id": "651241ec",
   "metadata": {},
   "outputs": [],
   "source": [
    "data_dummies.head()"
   ]
  },
  {
   "cell_type": "code",
   "execution_count": null,
   "id": "e0e4ad17",
   "metadata": {},
   "outputs": [],
   "source": [
    "print(data_dummies.shape)\n",
    "data_dummies.loc[0]"
   ]
  },
  {
   "cell_type": "code",
   "execution_count": null,
   "id": "baa20dff",
   "metadata": {},
   "outputs": [],
   "source": [
    "data_dummies2 = pd.get_dummies(data, drop_first=True)\n",
    "print(data_dummies2.shape)\n",
    "data_dummies2.loc[0]"
   ]
  },
  {
   "cell_type": "code",
   "execution_count": null,
   "id": "326f2a56",
   "metadata": {},
   "outputs": [],
   "source": [
    "from sklearn.preprocessing import StandardScaler\n",
    "scaler = StandardScaler()\n",
    "scaled_data = scaler.fit_transform(data_dummies)"
   ]
  },
  {
   "cell_type": "code",
   "execution_count": null,
   "id": "b026aa90",
   "metadata": {},
   "outputs": [],
   "source": [
    "scaled_data[0]"
   ]
  },
  {
   "cell_type": "code",
   "execution_count": null,
   "id": "655256c3",
   "metadata": {},
   "outputs": [],
   "source": [
    "from sklearn.cluster import KMeans\n",
    "model = KMeans(n_clusters=3)\n",
    "clusters = model.fit_predict(scaled_data)"
   ]
  },
  {
   "cell_type": "code",
   "execution_count": null,
   "id": "2e94f370",
   "metadata": {},
   "outputs": [],
   "source": [
    "clusters"
   ]
  },
  {
   "cell_type": "code",
   "execution_count": null,
   "id": "5ca27990",
   "metadata": {},
   "outputs": [],
   "source": [
    "data_dummies.insert(0, \"cluster\", clusters) # ou bien data_dummies.columns.get_loc(\"Age\")"
   ]
  },
  {
   "cell_type": "code",
   "execution_count": null,
   "id": "1318a32b",
   "metadata": {},
   "outputs": [],
   "source": [
    "data_dummies"
   ]
  },
  {
   "cell_type": "code",
   "execution_count": null,
   "id": "ba4e5eb4",
   "metadata": {},
   "outputs": [],
   "source": [
    "data_dummies.cluster.unique()"
   ]
  },
  {
   "cell_type": "code",
   "execution_count": null,
   "id": "21e21c82",
   "metadata": {},
   "outputs": [],
   "source": [
    "data_dummies.cluster.value_counts()"
   ]
  },
  {
   "cell_type": "code",
   "execution_count": null,
   "id": "1aa74bc3",
   "metadata": {},
   "outputs": [],
   "source": [
    "import matplotlib.pyplot as plt\n",
    "ssd = []\n",
    "for k in range(2, 9):\n",
    "    kmeans_model = KMeans(n_clusters=k)\n",
    "    kmeans_model.fit(scaled_data)\n",
    "    ssd.append(kmeans_model.inertia_)\n",
    "plt.figure(figsize=(6, 4), dpi=100)\n",
    "plt.plot(range(2, 9), ssd, color=\"green\", marker=\"o\")\n",
    "plt.xlabel(\"Number of clusters (K)\")\n",
    "plt.ylabel(\"SSD for K\")\n",
    "plt.show()"
   ]
  },
  {
   "cell_type": "code",
   "execution_count": null,
   "id": "0a7a6323",
   "metadata": {},
   "outputs": [],
   "source": [
    "from sklearn.metrics import silhouette_score\n",
    "silhouette_avg = silhouette_score(data, labels)"
   ]
  }
 ],
 "metadata": {
  "kernelspec": {
   "display_name": "Python 3 (ipykernel)",
   "language": "python",
   "name": "python3"
  },
  "language_info": {
   "codemirror_mode": {
    "name": "ipython",
    "version": 3
   },
   "file_extension": ".py",
   "mimetype": "text/x-python",
   "name": "python",
   "nbconvert_exporter": "python",
   "pygments_lexer": "ipython3",
   "version": "3.10.12"
  }
 },
 "nbformat": 4,
 "nbformat_minor": 5
}
