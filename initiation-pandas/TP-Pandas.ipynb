{
 "cells": [
  {
   "cell_type": "markdown",
   "id": "814b41a2",
   "metadata": {},
   "source": [
    "# Import Pandas"
   ]
  },
  {
   "cell_type": "code",
   "execution_count": 18,
   "id": "324441a2",
   "metadata": {},
   "outputs": [],
   "source": [
    "import pandas as pd"
   ]
  },
  {
   "cell_type": "markdown",
   "id": "15fde8b3",
   "metadata": {},
   "source": [
    "# Exercice 1\n",
    "Write a Pandas program to join the two given dataframes along rows and merge with another dataframe along the common\n",
    "column id"
   ]
  },
  {
   "cell_type": "code",
   "execution_count": 40,
   "id": "9edd580d",
   "metadata": {},
   "outputs": [
    {
     "name": "stdout",
     "output_type": "stream",
     "text": [
      "  student_id              name  marks\n",
      "0         S1  Danniella Fenton    200\n",
      "1         S2      Ryder Storey    210\n",
      "2         S3      Bryce Jensen    190\n",
      "3         S4         Ed Bernal    222\n",
      "4         S5       Kwame Morin    199\n"
     ]
    }
   ],
   "source": [
    "# Création du premier dataframe\n",
    "students1 = pd.DataFrame({\n",
    "    'student_id': ['S1','S2','S3','S4','S5'],\n",
    "    'name': ['Danniella Fenton','Ryder Storey','Bryce Jensen','Ed Bernal','Kwame Morin'],\n",
    "    'marks': [200,210,190,222,199]\n",
    "})\n",
    "print(students1)"
   ]
  },
  {
   "cell_type": "code",
   "execution_count": 43,
   "id": "d7516947",
   "metadata": {},
   "outputs": [
    {
     "name": "stdout",
     "output_type": "stream",
     "text": [
      "  student_id              name  marks\n",
      "0         S4  Scarlette Fisher    201\n",
      "1         S5  Carla Williamson    200\n",
      "2         S6       Dante Morse    198\n",
      "3         S7    Kaiser William    219\n",
      "4         S8   Madeeha Preston    210\n"
     ]
    }
   ],
   "source": [
    "# Création du second dataframe\n",
    "students2 = pd.DataFrame({\n",
    "    'student_id': ['S4','S5','S6','S7','S8'],\n",
    "    'name': ['Scarlette Fisher','Carla Williamson','Dante Morse','Kaiser William','Madeeha Preston'],\n",
    "    'marks': [201,200,198,219,210]\n",
    "})\n",
    "print(students2)"
   ]
  },
  {
   "cell_type": "code",
   "execution_count": 44,
   "id": "8840f639",
   "metadata": {},
   "outputs": [
    {
     "name": "stdout",
     "output_type": "stream",
     "text": [
      "  student_id  exam_id\n",
      "0         S1       23\n",
      "1         S2       45\n",
      "2         S3       12\n",
      "3         S4       67\n",
      "4         S5       21\n",
      "5         S7       55\n",
      "6         S6       33\n",
      "7         S9       14\n"
     ]
    }
   ],
   "source": [
    "# Création du troixième dataframe\n",
    "exam_data = pd.DataFrame({\n",
    "    'student_id': ['S1','S2','S3','S4','S5','S7','S6','S9'],\n",
    "    'exam_id': [23,45,12,67,21,55,33,14]\n",
    "})\n",
    "print(exam_data)"
   ]
  },
  {
   "cell_type": "code",
   "execution_count": 3,
   "id": "5c845e78",
   "metadata": {},
   "outputs": [],
   "source": [
    "# fusionner les deux dataframes (students1 et students 2)\n"
   ]
  },
  {
   "cell_type": "code",
   "execution_count": 2,
   "id": "15ac0415",
   "metadata": {},
   "outputs": [],
   "source": [
    "# joindre le résultat avec le dataframe exam_data\n"
   ]
  },
  {
   "cell_type": "markdown",
   "id": "15c41caf",
   "metadata": {},
   "source": [
    "# Exercice 2"
   ]
  },
  {
   "cell_type": "code",
   "execution_count": 88,
   "id": "a7669c90",
   "metadata": {
    "scrolled": true
   },
   "outputs": [
    {
     "name": "stdout",
     "output_type": "stream",
     "text": [
      "  numbers nums  colors  other_column\n",
      "0     #23   23   green             0\n",
      "1     #24   24     red             1\n",
      "2     #18   18  yellow             0\n",
      "3     #14   14  orange             2\n",
      "4     #12  NaN  purple             1\n",
      "5     #10  XYZ    blue             0\n",
      "6     #35   35    pink             2\n"
     ]
    }
   ],
   "source": [
    "import numpy as np\n",
    "data = pd.DataFrame({\"numbers\": [\"#23\", \"#24\", \"#18\", \"#14\", \"#12\", \"#10\", \"#35\"],\n",
    "                   \"nums\": [\"23\", \"24\", \"18\", \"14\", np.nan, \"XYZ\", \"35\"],\n",
    "                   \"colors\": [\"green\", \"red\", \"yellow\", \"orange\", \"purple\", \"blue\", \"pink\"],\n",
    "                   \"other_column\": [0, 1, 0, 2, 1, 0, 2]})\n",
    "print(data)"
   ]
  },
  {
   "cell_type": "markdown",
   "id": "92ff809e",
   "metadata": {},
   "source": [
    "**Q1.** Afficher le **mean** de la colonne **numbers**"
   ]
  },
  {
   "cell_type": "code",
   "execution_count": null,
   "id": "ec5634b9",
   "metadata": {
    "scrolled": false
   },
   "outputs": [],
   "source": []
  },
  {
   "cell_type": "markdown",
   "id": "65012402",
   "metadata": {},
   "source": [
    "**Q2.** Afficher le type des données stockées dans chaque colonne"
   ]
  },
  {
   "cell_type": "code",
   "execution_count": null,
   "id": "ca2131a4",
   "metadata": {},
   "outputs": [],
   "source": []
  },
  {
   "cell_type": "markdown",
   "id": "2fcc584a",
   "metadata": {},
   "source": [
    "# Exercice 3\n",
    "**Q1.** Ecrivez un programme Pandas pour détecter les valeurs manquantes d'un DataFrame donné. Afficher vrai ou faux. Les données sont stockées dans le fichier **employes.csv**."
   ]
  },
  {
   "cell_type": "code",
   "execution_count": 1,
   "id": "97c0eef3",
   "metadata": {},
   "outputs": [],
   "source": [
    "# Charger le fichier employes.csv"
   ]
  },
  {
   "cell_type": "code",
   "execution_count": null,
   "id": "8b05ac3a",
   "metadata": {},
   "outputs": [],
   "source": [
    "# Vérifier les colonnes vides"
   ]
  },
  {
   "cell_type": "markdown",
   "id": "c02c71eb",
   "metadata": {},
   "source": [
    "**Q2.** Ecrivez un programme Pandas pour identifier la ou les colonnes d'un DataFrame donné qui ont au moins une valeur manquante. "
   ]
  },
  {
   "cell_type": "code",
   "execution_count": null,
   "id": "870c824f",
   "metadata": {},
   "outputs": [],
   "source": []
  },
  {
   "cell_type": "markdown",
   "id": "9759037e",
   "metadata": {},
   "source": [
    "**Q3.** Ecrivez un programme Pandas permettant la suppression des lignes qui ont au moins une valeur manquante."
   ]
  },
  {
   "cell_type": "code",
   "execution_count": null,
   "id": "a5a90731",
   "metadata": {},
   "outputs": [],
   "source": []
  },
  {
   "cell_type": "markdown",
   "id": "d6a4ff5e",
   "metadata": {},
   "source": [
    "**Q4.** Ecrivez un programme Pandas pour supprimer les colonnes qui ont au moins une valeur manquante."
   ]
  },
  {
   "cell_type": "code",
   "execution_count": null,
   "id": "a8bad661",
   "metadata": {},
   "outputs": [],
   "source": []
  },
  {
   "cell_type": "markdown",
   "id": "4ee3087a",
   "metadata": {},
   "source": [
    "**Q5.** Changer les noms des colonnes comme suit : code, montant, date, client, vendeur"
   ]
  },
  {
   "cell_type": "code",
   "execution_count": null,
   "id": "c6b3fdb5",
   "metadata": {},
   "outputs": [],
   "source": []
  },
  {
   "cell_type": "markdown",
   "id": "fcd564cf",
   "metadata": {},
   "source": [
    "**Q6.** Afficher les commandes passées après le 2012-09-10"
   ]
  },
  {
   "cell_type": "code",
   "execution_count": null,
   "id": "45037854",
   "metadata": {},
   "outputs": [],
   "source": []
  },
  {
   "cell_type": "markdown",
   "id": "3167d291",
   "metadata": {},
   "source": [
    "## Visualization avec Mathplot"
   ]
  },
  {
   "cell_type": "code",
   "execution_count": null,
   "id": "419a9789",
   "metadata": {
    "scrolled": false
   },
   "outputs": [],
   "source": []
  },
  {
   "cell_type": "code",
   "execution_count": 106,
   "id": "8533edf3",
   "metadata": {
    "scrolled": false
   },
   "outputs": [],
   "source": [
    "# Afficher le montant des commandes pour chaque date"
   ]
  },
  {
   "cell_type": "code",
   "execution_count": 107,
   "id": "1ac778eb",
   "metadata": {},
   "outputs": [],
   "source": [
    "# Trier le dataframe par date ASC"
   ]
  },
  {
   "cell_type": "code",
   "execution_count": 108,
   "id": "9f69c1a2",
   "metadata": {},
   "outputs": [],
   "source": [
    "# Afficher le chiffre d'affaire obtenu chaque jour"
   ]
  }
 ],
 "metadata": {
  "kernelspec": {
   "display_name": "Python 3 (ipykernel)",
   "language": "python",
   "name": "python3"
  },
  "language_info": {
   "codemirror_mode": {
    "name": "ipython",
    "version": 3
   },
   "file_extension": ".py",
   "mimetype": "text/x-python",
   "name": "python",
   "nbconvert_exporter": "python",
   "pygments_lexer": "ipython3",
   "version": "3.10.12"
  }
 },
 "nbformat": 4,
 "nbformat_minor": 5
}
