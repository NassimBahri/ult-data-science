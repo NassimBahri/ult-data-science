{
 "cells": [
  {
   "cell_type": "markdown",
   "id": "912a3cd5",
   "metadata": {},
   "source": [
    "## L'apprentissage supervisé\n"
   ]
  },
  {
   "cell_type": "markdown",
   "id": "bf84b006",
   "metadata": {},
   "source": [
    "### Les étapes pour appliques l'apprentissage supervisé :\n",
    "\n",
    "1. **Importer les bibliothèques nécessaires pour le modèle.**\n",
    "\n",
    "\n",
    "2. **Construire la dataframe.**\n",
    "\n",
    "\n",
    "3. **Examiner la data.**\n",
    "\n",
    "\n",
    "4. **Diviser la data en deux parties : training and testing.**\n",
    "\n",
    "\n",
    "5. **Visualiser  la data.**\n",
    "\n",
    "\n",
    "6. **Entrainer le modèle.**\n",
    "\n",
    "\n",
    "7. **Evaluer le modèle.**"
   ]
  },
  {
   "cell_type": "markdown",
   "id": "6e2b0059",
   "metadata": {},
   "source": [
    "### 1. La régression linéaire :\n",
    "\n",
    "\n",
    "- **La régression linéaire est l'une des branches les plus fondamentales de l'apprentissage automatique.**\n",
    "\n",
    "\n",
    "- **Dans ce TP nous allons parler de la régression linéaire simple et multiple.**\n",
    "\n",
    "\n",
    "- **La régression linéaire est un outil statistique puissant permettant d'examiner la relation entre deux ou plusieurs variables d'intérêt.**\n",
    "\n",
    "\n",
    "- **La régression linéaire est utilisé pour estimer la relation entre une variable  dépendante et diverses variables indépendantes.**\n",
    "\n",
    "\n",
    "- **Le principe de la régression linéaire est de tracer une ligne qui correspond le mieux aux données. Cette ligne est connue sous le nom de `ligne de régression` et représente les valeurs prédites générées par l'algorithme..**\n",
    "\n"
   ]
  },
  {
   "cell_type": "markdown",
   "id": "879910fb",
   "metadata": {},
   "source": [
    "#### Comment peut on choisir la meilleure droite :\n",
    "\n",
    "\n",
    "\n",
    "- **La régression linéaire $\\underline{\\mbox{simple}}$ utilise une ligne droite pour définir la relation entre deux variables, X et Y et elle utilise le modèle mathématique suivant :**\n",
    "\n",
    "$$Y=\\beta_0+\\beta_1 X$$.\n",
    "\n",
    "\n",
    "- **La régression linéaire $\\underline{\\mbox{multiple}}$ utilise une ligne droite pour définir la relation entre plusieur variables indépendantes $X_1, X_2,\\dots X_n$ et la variable dépendante Y et elle utilise le modèle mathématique suivant :**\n",
    "\n",
    "$$Y=\\beta_0+\\beta_1 X_1+\\beta_2 X_2+\\dots + \\beta_n X_n=\\beta_0+\\begin{pmatrix}\\beta_1&\\beta_2&\\dots&\\beta_n\\end{pmatrix}\\begin{pmatrix}X_1\\\\X_2\\\\\\vdots\\\\X_n\\end{pmatrix}=\\beta_0+\\beta.X$$.\n",
    "\n",
    "- $\\beta=\\begin{pmatrix}\\beta_1&\\beta_2&\\dots&\\beta_n\\end{pmatrix}$ et $X=\\begin{pmatrix}X_1\\\\X_2\\\\\\vdots\\\\X_n\\end{pmatrix}$\n",
    "\n",
    "\n",
    "- $\\beta_0,\\beta_1,\\beta_2,\\dots,\\beta_n$ **sont les paramètres du modèles, et l'objectif principal de l'algorithme est de déterminer les meilleures valeurs pour ces paramètres.**\n",
    "\n",
    "\n",
    "- **L'erreur d'un point de données est la distance entre sa valeur prédite et sa valeur réelle. Cette erreur est techniquement connue comme le résidu.**\n",
    "\n",
    "- **L'objectif de l'algorithme de régression linéaire linéaire est de trouver les meilleures valeures $\\beta_0,\\beta_1,\\beta_2,\\dots,\\beta_n$ qui donne le plus petit Mean Squared Error : une fonction construite par tous les résidus et avec des variables $\\beta_0,\\beta_1,\\beta_2,\\dots,\\beta_n$.**\n",
    "\n",
    "$\\Rightarrow$ **La régression linéaire multiple est plus performante que la La régression linéaire simple.**"
   ]
  },
  {
   "cell_type": "markdown",
   "id": "0e8ba86e",
   "metadata": {},
   "source": [
    "### **Importer les bibliothèques nécessaires pour le modèle.**"
   ]
  },
  {
   "cell_type": "code",
   "execution_count": 76,
   "id": "3801e49b",
   "metadata": {},
   "outputs": [],
   "source": [
    "import numpy as np\n",
    "import pandas as pd  \n",
    "import matplotlib.pyplot as plt \n",
    "from sklearn.linear_model import LinearRegression\n",
    "from sklearn.model_selection import train_test_split\n",
    "from sklearn.metrics import mean_squared_error, r2_score\n"
   ]
  },
  {
   "cell_type": "markdown",
   "id": "59cf6442",
   "metadata": {},
   "source": [
    "### **Construire la dataframe.**"
   ]
  },
  {
   "cell_type": "code",
   "execution_count": 77,
   "id": "ab6e1106",
   "metadata": {},
   "outputs": [],
   "source": [
    "housing = pd.read_csv('income.data.csv')"
   ]
  },
  {
   "cell_type": "markdown",
   "id": "530dd3bd",
   "metadata": {},
   "source": [
    "### 3. **Examiner la data.**"
   ]
  },
  {
   "cell_type": "code",
   "execution_count": 78,
   "id": "99d8d3dd",
   "metadata": {
    "scrolled": true
   },
   "outputs": [
    {
     "data": {
      "text/html": [
       "<div>\n",
       "<style scoped>\n",
       "    .dataframe tbody tr th:only-of-type {\n",
       "        vertical-align: middle;\n",
       "    }\n",
       "\n",
       "    .dataframe tbody tr th {\n",
       "        vertical-align: top;\n",
       "    }\n",
       "\n",
       "    .dataframe thead th {\n",
       "        text-align: right;\n",
       "    }\n",
       "</style>\n",
       "<table border=\"1\" class=\"dataframe\">\n",
       "  <thead>\n",
       "    <tr style=\"text-align: right;\">\n",
       "      <th></th>\n",
       "      <th>Unnamed: 0</th>\n",
       "      <th>income</th>\n",
       "      <th>happiness</th>\n",
       "    </tr>\n",
       "  </thead>\n",
       "  <tbody>\n",
       "    <tr>\n",
       "      <th>0</th>\n",
       "      <td>1</td>\n",
       "      <td>3.862647</td>\n",
       "      <td>2.314489</td>\n",
       "    </tr>\n",
       "    <tr>\n",
       "      <th>1</th>\n",
       "      <td>2</td>\n",
       "      <td>4.979381</td>\n",
       "      <td>3.433490</td>\n",
       "    </tr>\n",
       "    <tr>\n",
       "      <th>2</th>\n",
       "      <td>3</td>\n",
       "      <td>4.923957</td>\n",
       "      <td>4.599373</td>\n",
       "    </tr>\n",
       "    <tr>\n",
       "      <th>3</th>\n",
       "      <td>4</td>\n",
       "      <td>3.214372</td>\n",
       "      <td>2.791114</td>\n",
       "    </tr>\n",
       "    <tr>\n",
       "      <th>4</th>\n",
       "      <td>5</td>\n",
       "      <td>7.196409</td>\n",
       "      <td>5.596398</td>\n",
       "    </tr>\n",
       "  </tbody>\n",
       "</table>\n",
       "</div>"
      ],
      "text/plain": [
       "   Unnamed: 0    income  happiness\n",
       "0           1  3.862647   2.314489\n",
       "1           2  4.979381   3.433490\n",
       "2           3  4.923957   4.599373\n",
       "3           4  3.214372   2.791114\n",
       "4           5  7.196409   5.596398"
      ]
     },
     "execution_count": 78,
     "metadata": {},
     "output_type": "execute_result"
    }
   ],
   "source": [
    "housing.head()"
   ]
  },
  {
   "cell_type": "code",
   "execution_count": 79,
   "id": "06307f4f",
   "metadata": {},
   "outputs": [
    {
     "data": {
      "text/html": [
       "<div>\n",
       "<style scoped>\n",
       "    .dataframe tbody tr th:only-of-type {\n",
       "        vertical-align: middle;\n",
       "    }\n",
       "\n",
       "    .dataframe tbody tr th {\n",
       "        vertical-align: top;\n",
       "    }\n",
       "\n",
       "    .dataframe thead th {\n",
       "        text-align: right;\n",
       "    }\n",
       "</style>\n",
       "<table border=\"1\" class=\"dataframe\">\n",
       "  <thead>\n",
       "    <tr style=\"text-align: right;\">\n",
       "      <th></th>\n",
       "      <th>Unnamed: 0</th>\n",
       "      <th>income</th>\n",
       "      <th>happiness</th>\n",
       "    </tr>\n",
       "  </thead>\n",
       "  <tbody>\n",
       "    <tr>\n",
       "      <th>count</th>\n",
       "      <td>498.000000</td>\n",
       "      <td>498.000000</td>\n",
       "      <td>498.000000</td>\n",
       "    </tr>\n",
       "    <tr>\n",
       "      <th>mean</th>\n",
       "      <td>249.500000</td>\n",
       "      <td>4.466902</td>\n",
       "      <td>3.392859</td>\n",
       "    </tr>\n",
       "    <tr>\n",
       "      <th>std</th>\n",
       "      <td>143.904482</td>\n",
       "      <td>1.737527</td>\n",
       "      <td>1.432813</td>\n",
       "    </tr>\n",
       "    <tr>\n",
       "      <th>min</th>\n",
       "      <td>1.000000</td>\n",
       "      <td>1.506275</td>\n",
       "      <td>0.266044</td>\n",
       "    </tr>\n",
       "    <tr>\n",
       "      <th>25%</th>\n",
       "      <td>125.250000</td>\n",
       "      <td>3.006256</td>\n",
       "      <td>2.265864</td>\n",
       "    </tr>\n",
       "    <tr>\n",
       "      <th>50%</th>\n",
       "      <td>249.500000</td>\n",
       "      <td>4.423710</td>\n",
       "      <td>3.472536</td>\n",
       "    </tr>\n",
       "    <tr>\n",
       "      <th>75%</th>\n",
       "      <td>373.750000</td>\n",
       "      <td>5.991913</td>\n",
       "      <td>4.502621</td>\n",
       "    </tr>\n",
       "    <tr>\n",
       "      <th>max</th>\n",
       "      <td>498.000000</td>\n",
       "      <td>7.481521</td>\n",
       "      <td>6.863388</td>\n",
       "    </tr>\n",
       "  </tbody>\n",
       "</table>\n",
       "</div>"
      ],
      "text/plain": [
       "       Unnamed: 0      income   happiness\n",
       "count  498.000000  498.000000  498.000000\n",
       "mean   249.500000    4.466902    3.392859\n",
       "std    143.904482    1.737527    1.432813\n",
       "min      1.000000    1.506275    0.266044\n",
       "25%    125.250000    3.006256    2.265864\n",
       "50%    249.500000    4.423710    3.472536\n",
       "75%    373.750000    5.991913    4.502621\n",
       "max    498.000000    7.481521    6.863388"
      ]
     },
     "execution_count": 79,
     "metadata": {},
     "output_type": "execute_result"
    }
   ],
   "source": [
    "housing.describe()"
   ]
  },
  {
   "cell_type": "code",
   "execution_count": 66,
   "id": "a6165575",
   "metadata": {},
   "outputs": [
    {
     "data": {
      "text/plain": [
       "Unnamed: 0    0\n",
       "income        0\n",
       "happiness     0\n",
       "dtype: int64"
      ]
     },
     "execution_count": 66,
     "metadata": {},
     "output_type": "execute_result"
    }
   ],
   "source": [
    "housing.isnull().sum()"
   ]
  },
  {
   "cell_type": "markdown",
   "id": "05032460",
   "metadata": {},
   "source": [
    "### 4. **Diviser la data en deux parties : training and testing.**\n"
   ]
  },
  {
   "cell_type": "code",
   "execution_count": 67,
   "id": "3a65af8f",
   "metadata": {},
   "outputs": [],
   "source": [
    "X = housing[['income']]\n",
    "y = housing['happiness']\n",
    "\n",
    "X_train, X_test, y_train, y_test = train_test_split(X, y, test_size=0.2, random_state=True)\n"
   ]
  },
  {
   "cell_type": "markdown",
   "id": "b1e4dcd4",
   "metadata": {},
   "source": [
    "### 5. **Visualiser  la data.**\n"
   ]
  },
  {
   "cell_type": "code",
   "execution_count": 68,
   "id": "e8b0c477",
   "metadata": {},
   "outputs": [
    {
     "data": {
      "text/plain": [
       "Text(0, 0.5, 'Happiness')"
      ]
     },
     "execution_count": 68,
     "metadata": {},
     "output_type": "execute_result"
    },
    {
     "data": {
      "image/png": "[encoded data removed]",
      "text/plain": [
       "<Figure size 432x288 with 1 Axes>"
      ]
     },
     "metadata": {
      "needs_background": "light"
     },
     "output_type": "display_data"
    }
   ],
   "source": [
    "plt.scatter(X_train['income'], y_train, s=10)\n",
    "plt.title('Happiness vs income')\n",
    "plt.xlabel('Income')\n",
    "plt.ylabel('Happiness')"
   ]
  },
  {
   "cell_type": "markdown",
   "id": "967f9325",
   "metadata": {},
   "source": [
    "### 6. **Entrainer le modèle.**\n"
   ]
  },
  {
   "cell_type": "code",
   "execution_count": 80,
   "id": "51002a00",
   "metadata": {},
   "outputs": [
    {
     "data": {
      "text/plain": [
       "LinearRegression()"
      ]
     },
     "execution_count": 80,
     "metadata": {},
     "output_type": "execute_result"
    }
   ],
   "source": [
    "lr = LinearRegression()\n",
    "lr.fit(X_train, y_train)"
   ]
  },
  {
   "cell_type": "code",
   "execution_count": 81,
   "id": "87be4078",
   "metadata": {},
   "outputs": [
    {
     "name": "stdout",
     "output_type": "stream",
     "text": [
      "0.17183885323674186\n",
      "[0.72038294]\n"
     ]
    }
   ],
   "source": [
    "print(lr.intercept_)\n",
    "print(lr.coef_)"
   ]
  },
  {
   "cell_type": "code",
   "execution_count": 73,
   "id": "4e6bdb5d",
   "metadata": {},
   "outputs": [
    {
     "data": {
      "text/plain": [
       "Text(0, 0.5, 'Happiness ')"
      ]
     },
     "execution_count": 73,
     "metadata": {},
     "output_type": "execute_result"
    },
    {
     "data": {
      "image/png": "[encoded data removed]",
      "text/plain": [
       "<Figure size 432x288 with 1 Axes>"
      ]
     },
     "metadata": {
      "needs_background": "light"
     },
     "output_type": "display_data"
    }
   ],
   "source": [
    "plt.scatter(X_train['income'], y_train, s=10)\n",
    "\n",
    "y_pred = lr.predict(X_train)\n",
    "plt.plot(X_train['income'], y_pred, color='red')\n",
    "\n",
    "plt.title('Happiness vs income')\n",
    "plt.xlabel('Income')\n",
    "plt.ylabel('Happiness ')"
   ]
  },
  {
   "cell_type": "markdown",
   "id": "d1cae3dd",
   "metadata": {},
   "source": [
    "### 7. **Evaluer le modèle.**"
   ]
  },
  {
   "cell_type": "markdown",
   "id": "b531ec24",
   "metadata": {},
   "source": [
    "- **Discutons des critères d'évaluation des modèles de régression. Les mesures couramment utilisées sont l'erreur quadratique moyenne racine (Root Mean Squared Error) et le R-carré (R squared).**\n",
    "\n",
    "### 7.1 **L'erreur quadratique moyenne racine (Root Mean Squared Error) $=$ RMSE**\n",
    "\n",
    "\n",
    "- **Cette valeur est déterminée en calculant la racine carrée de la moyenne des différences au carré entre les valeurs réelles et les valeurs prédites.**\n",
    "\n",
    " $$RMSE=\\sqrt{\\dfrac{e^2_1+e^2_2+\\dots+e^2_n}{n}}, \\; \\mbox{avec} \\;e_i=y_i-\\tilde{y}_i$$\n",
    "\n",
    "- **Supposons que nous avons deux listes - true et pred - qui stockent les valeurs réelles et les valeurs prédites :**"
   ]
  },
  {
   "cell_type": "code",
   "execution_count": null,
   "id": "b91ef683",
   "metadata": {},
   "outputs": [],
   "source": [
    "pred=[2.1,1.4,5.6,7.9]\n",
    "true=[2.5,1.6,5.1,6.8]\n"
   ]
  },
  {
   "cell_type": "markdown",
   "id": "047fae5f",
   "metadata": {},
   "source": [
    "- **Pour calculer le MSE, on commence par calculer la différence entre les valeurs des deux listes $\\Rightarrow \\; [-0.4,-O.2, 0.5, 1.1]$.**\n",
    "\n",
    "\n",
    "- **On cherche le carrés des valeurs de la liste $\\Rightarrow \\; [0.16, O.4, 0.25, 1.21]$.**\n",
    "\n",
    "\n",
    "- **On cherche la moyenne des valeurs trouvées $\\Rightarrow \\; \\dfrac{(0.16+O.4+0.25+1.21)}{4}=0.415$.****\n",
    "\n",
    "\n",
    "- **RMSE=la racine carrées de la moyenne = $\\sqrt{0.415}=0.644$.**"
   ]
  },
  {
   "cell_type": "markdown",
   "id": "511711a0",
   "metadata": {},
   "source": [
    "### 7.2 **le R-carré (R squared) $=R^2$.**\n",
    "\n",
    "\n",
    "- **Aussi connue sou le nom score $R^2$, c'est une mesure statistique de la proximité des données par rapport à la ligne de régression ajustée. Il est également connu sous le nom de coefficient de détermination, ou de coefficient de détermination multiple pour la régression multiple.**\n",
    "\n",
    " $$R^2 \\mbox{score}=1-\\dfrac{\\mbox{Sum of Squared Differences between predicted and true values}}{\\mbox{Sum of Squared Differences between true values and mean of true values}}$$\n",
    "\n",
    "\n",
    "- **squared est entre $0\\%$ et $100\\%$:**\n",
    "\n",
    "    $0\\%$ **indique que le modèle n'explique aucune des variabilités des données de réponse autour de sa moyenne.**\n",
    "    $100\\%$ **indique que le modèle explique toute la variabilité des données de réponse autour de sa moyenne.**\n",
    "\n",
    "- **On prend les mêmes listes :**"
   ]
  },
  {
   "cell_type": "code",
   "execution_count": null,
   "id": "20b18093",
   "metadata": {},
   "outputs": [],
   "source": [
    "pred=[2.1,1.4,5.6,7.9]\n",
    "true=[2.5,1.6,5.1,6.8]"
   ]
  },
  {
   "cell_type": "markdown",
   "id": "270bca6d",
   "metadata": {},
   "source": [
    "- **On commence par calculer la différence entre les valeurs des deux listes $\\Rightarrow \\; [-0.4,-O.2, 0.5, 1.1]$.**\n",
    "\n",
    "\n",
    "- **On cherche le carrés des valeurs de la liste $\\Rightarrow \\; [0.16, O.4, 0.25, 1.21]=$ Squared Differences between predicted and true values.**\n",
    "\n",
    "\n",
    "- **On va calculer la somme $S=0.16+0.4+0.25+1.21=1.66$.**\n",
    "\n",
    "\n",
    "- **On cherche la moyenne des valeurs de la liste true $\\Rightarrow \\; \\dfrac{(2.5+1.6+5.1+6.8)}{4}=4$.**\n",
    "\n",
    "\n",
    "- **Chercher la liste de la difference entre les valeurs de true et leurs moyenne $[-1.5,-2.4,1.1,2.8]\\; \\Rightarrow\\; \\mbox{le carrés} =[2.25,5.76,1.21,7.84]$.**\n",
    "\n",
    "\n",
    "- **la somme $=2.25+5.76+1.21+7.84=17.06$.**\n",
    "\n",
    "\n",
    "$$R^2=1-\\dfrac{1.66}{17.06}=0.902696$$"
   ]
  },
  {
   "cell_type": "code",
   "execution_count": 82,
   "id": "1cf5b4b1",
   "metadata": {},
   "outputs": [
    {
     "name": "stdout",
     "output_type": "stream",
     "text": [
      "0.7101064492300975\n",
      "0.7512884412385668\n"
     ]
    }
   ],
   "source": [
    "RMSE = mean_squared_error(y_train, y_pred, squared=False)\n",
    "r2 = r2_score(y_train, y_pred)\n",
    "print(RMSE)\n",
    "print(r2)"
   ]
  },
  {
   "cell_type": "code",
   "execution_count": 83,
   "id": "02f05930",
   "metadata": {},
   "outputs": [
    {
     "name": "stdout",
     "output_type": "stream",
     "text": [
      "0.7426234028055212\n",
      "0.7401256340340991\n"
     ]
    }
   ],
   "source": [
    "y_pred_test = lr.predict(X_test)\n",
    "RMSE = mean_squared_error(y_test, y_pred_test, squared=False)\n",
    "r2 = r2_score(y_test, y_pred_test)\n",
    "print(RMSE)\n",
    "print(r2)"
   ]
  },
  {
   "cell_type": "code",
   "execution_count": null,
   "id": "a5f9e1cb",
   "metadata": {},
   "outputs": [],
   "source": []
  }
 ],
 "metadata": {
  "kernelspec": {
   "display_name": "Python 3 (ipykernel)",
   "language": "python",
   "name": "python3"
  },
  "language_info": {
   "codemirror_mode": {
    "name": "ipython",
    "version": 3
   },
   "file_extension": ".py",
   "mimetype": "text/x-python",
   "name": "python",
   "nbconvert_exporter": "python",
   "pygments_lexer": "ipython3",
   "version": "3.10.12"
  }
 },
 "nbformat": 4,
 "nbformat_minor": 5
}
